{
  "nbformat": 4,
  "nbformat_minor": 0,
  "metadata": {
    "colab": {
      "provenance": [],
      "authorship_tag": "ABX9TyOr/zlF+63fZ2YBNHj9+mge",
      "include_colab_link": true
    },
    "kernelspec": {
      "name": "python3",
      "display_name": "Python 3"
    },
    "language_info": {
      "name": "python"
    }
  },
  "cells": [
    {
      "cell_type": "markdown",
      "metadata": {
        "id": "view-in-github",
        "colab_type": "text"
      },
      "source": [
        "<a href=\"https://colab.research.google.com/github/sndemedeiros/Desafio_Imersao_Alura05/blob/main/Eco_Historico.ipynb\" target=\"_parent\"><img src=\"https://colab.research.google.com/assets/colab-badge.svg\" alt=\"Open In Colab\"/></a>"
      ]
    },
    {
      "cell_type": "code",
      "execution_count": 14,
      "metadata": {
        "id": "X99VIA1sBnKB"
      },
      "outputs": [],
      "source": [
        "import google.generativeai as genai"
      ]
    },
    {
      "cell_type": "code",
      "source": [
        "# Configuração inicial\n",
        "from google.colab import userdata\n",
        "api_key = userdata.get('SECRET_KEY')\n",
        "genai.configure(api_key=api_key)"
      ],
      "metadata": {
        "id": "2YQO-UQjCp_n"
      },
      "execution_count": 15,
      "outputs": []
    },
    {
      "cell_type": "code",
      "source": [
        "# Definindo configurações do modelo\n",
        "generation_config = {\"candidate_count\": 1, \"temperature\": 0.5}\n",
        "safety_settings = {\n",
        "    'HATE': 'BLOCK_NONE',\n",
        "    'HARASSMENT': 'BLOCK_NONE',\n",
        "    'SEXUAL': 'BLOCK_NONE',\n",
        "    'DANGEROUS': 'BLOCK_NONE'\n",
        "}"
      ],
      "metadata": {
        "id": "OjFcExdqCzlB"
      },
      "execution_count": 16,
      "outputs": []
    },
    {
      "cell_type": "code",
      "source": [
        "# Inicializando o modelo\n",
        "model = genai.GenerativeModel(model_name='gemini-1.0-pro',\n",
        "                              generation_config=generation_config,\n",
        "                              safety_settings=safety_settings)\n",
        "\n",
        "def generate_response(character, query):\n",
        "    full_query = f\"Como {character}, {query}\"\n",
        "    response = model.generate_content(full_query)\n",
        "    return response.text\n",
        "\n",
        "def main():\n",
        "    print(\"Bem-vindo ao Diálogo com Personagens Históricos!\")\n",
        "    character = input(\"Escolha um personagem histórico para conversar ou 'sair' para terminar: \")\n",
        "    if character.lower() == 'sair':\n",
        "        return\n",
        "\n",
        "    while True:\n",
        "        query = input(f\"O que você gostaria de perguntar a {character}? (Digite 'trocar' para mudar de personagem ou 'sair' para terminar): \")\n",
        "        if query.lower() == 'sair':\n",
        "            break\n",
        "        elif query.lower() == 'trocar':\n",
        "            character = input(\"Escolha outro personagem histórico: \")\n",
        "            continue\n",
        "\n",
        "        print(\"Gerando resposta...\")\n",
        "        response = generate_response(character, query)\n",
        "        print(f\"{character} responde: {response}\")\n",
        "\n",
        "if __name__ == \"__main__\":\n",
        "    main()"
      ],
      "metadata": {
        "colab": {
          "base_uri": "https://localhost:8080/",
          "height": 173
        },
        "id": "Re1DOG2THHK6",
        "outputId": "50b6ae8f-3126-4116-c574-9bfee33d1d02"
      },
      "execution_count": 17,
      "outputs": [
        {
          "name": "stdout",
          "output_type": "stream",
          "text": [
            "Bem-vindo ao Diálogo com Personagens Históricos!\n",
            "Escolha um personagem histórico para conversar ou 'sair' para terminar: Cazuza\n",
            "O que você gostaria de perguntar a Cazuza? (Digite 'trocar' para mudar de personagem ou 'sair' para terminar): que ano ele morreu\n",
            "Gerando resposta...\n",
            "Cazuza responde: 1990\n",
            "O que você gostaria de perguntar a Cazuza? (Digite 'trocar' para mudar de personagem ou 'sair' para terminar): quantas músicas ele fez?\n",
            "Gerando resposta...\n",
            "Cazuza responde: Mais de 200\n",
            "O que você gostaria de perguntar a Cazuza? (Digite 'trocar' para mudar de personagem ou 'sair' para terminar): sair\n"
          ]
        }
      ]
    }
  ]
}